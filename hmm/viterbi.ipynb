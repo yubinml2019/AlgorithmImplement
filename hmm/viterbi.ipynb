{
 "cells": [
  {
   "cell_type": "markdown",
   "metadata": {},
   "source": [
    "## 模型参数已知 估计最好的Z使用"
   ]
  },
  {
   "cell_type": "code",
   "execution_count": 45,
   "metadata": {},
   "outputs": [
    {
     "name": "stdout",
     "output_type": "stream",
     "text": [
      "[[0.18    0.009   0.00252]\n",
      " [0.2     0.0036  0.00252]\n",
      " [0.06    0.028   0.00336]]\n"
     ]
    }
   ],
   "source": [
    "import numpy as np\n",
    "def viterbi(trainsion_matrix, emission_matrix, pi, obs_seq):\n",
    "    \n",
    "    latent_nums = trainsion_matrix.shape[0]\n",
    "    obs_times = len(obs_seq)\n",
    "    # 矩阵中[latent_state_i, t] 表示从最开始到 t时刻的观测值 由latent_state_i 这个隐变量转换而来的最大P\n",
    "    dp_matrix = np.zeros((latent_nums, obs_times))\n",
    "    #dp 初始状态\n",
    "    dp_matrix[:,0] = pi * emission_matrix[:,obs_seq[0]]\n",
    "    \n",
    "    for t in range(1, obs_times):\n",
    "        #t时刻要进行n*n个计算。第一个n次是 t时刻的每个隐状态要和t-1时刻dp结果计算出最大P；第二个n是t时刻要遍历每个隐状态\n",
    "        for n in range(obs_times):\n",
    "            #上一时刻各个隐状态转移到n状态的概率\n",
    "            t_n = dp_matrix[:, t-1] * (trainsion_matrix[:, n])\n",
    "            #最大概率乘上发射到t的概率\n",
    "            dp_matrix[n, t]=max(t_n) *(emission_matrix[np.argmax(t_n), obs_seq[t]])\n",
    "    return dp_matrix\n",
    "\n",
    "#隐变量\n",
    "latent_variable = np.array(['Sunny', 'Cloud', 'Rainy'])\n",
    "#初始状态\n",
    "pi = np.array([0.3, 0.5, 0.2])\n",
    "#转移矩阵\n",
    "trainsion_matrix=np.array(\n",
    "                  [[0.5, 0.2, 0.3],\n",
    "                   [0.2, 0.1, 0.7],\n",
    "                   [0.3, 0.3, 0.4]])\n",
    "#发射矩阵 shape=(3, 4) 3个隐状态 4个观测状态\n",
    "emission_matrix=np.array(\n",
    "                 [[0.6, 0.2, 0.1, 0.1],\n",
    "                  [0.4, 0.2, 0.2, 0.2],\n",
    "                  [0.3, 0.1, 0.3, 0.3]])\n",
    "#观测序列\n",
    "obs_seq=[0,2,3]\n",
    "#已知hmm的三个参数[发射矩阵,转移矩阵,初始状态]和一个观测序列，求最有可能的隐变量序列\n",
    "dp_matrix = viterbi(trainsion_matrix, emission_matrix, pi, obs_seq)\n",
    "print(F)\n",
    "'''\n",
    "[[0.18    0.009   0.00252]\n",
    " [0.2     0.0036  0.00252]\n",
    " [0.06    0.028   0.00336]]\n",
    "'''\n",
    "latent_path = []\n",
    "for col in range(dp_matrix.shape[1]):\n",
    "    latent_path.append(np.argmax(dp_matrix[:, col]))\n"
   ]
  },
  {
   "cell_type": "code",
   "execution_count": null,
   "metadata": {},
   "outputs": [],
   "source": []
  }
 ],
 "metadata": {
  "kernelspec": {
   "display_name": "Python 3",
   "language": "python",
   "name": "python3"
  },
  "language_info": {
   "codemirror_mode": {
    "name": "ipython",
    "version": 3
   },
   "file_extension": ".py",
   "mimetype": "text/x-python",
   "name": "python",
   "nbconvert_exporter": "python",
   "pygments_lexer": "ipython3",
   "version": "3.7.5"
  }
 },
 "nbformat": 4,
 "nbformat_minor": 4
}
